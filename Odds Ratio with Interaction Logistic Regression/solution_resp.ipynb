{
 "cells": [
  {
   "cell_type": "code",
   "execution_count": 2,
   "id": "66756655",
   "metadata": {},
   "outputs": [],
   "source": [
    "import  pandas  as pd\n",
    "import  numpy  as np\n",
    "import statsmodels.formula.api as smf\n",
    "from prettytable import PrettyTable"
   ]
  },
  {
   "cell_type": "code",
   "execution_count": 3,
   "id": "93e78f15",
   "metadata": {},
   "outputs": [
    {
     "data": {
      "text/html": [
       "<div>\n",
       "<style scoped>\n",
       "    .dataframe tbody tr th:only-of-type {\n",
       "        vertical-align: middle;\n",
       "    }\n",
       "\n",
       "    .dataframe tbody tr th {\n",
       "        vertical-align: top;\n",
       "    }\n",
       "\n",
       "    .dataframe thead th {\n",
       "        text-align: right;\n",
       "    }\n",
       "</style>\n",
       "<table border=\"1\" class=\"dataframe\">\n",
       "  <thead>\n",
       "    <tr style=\"text-align: right;\">\n",
       "      <th></th>\n",
       "      <th>gender</th>\n",
       "      <th>SITEID</th>\n",
       "      <th>SUBJID</th>\n",
       "      <th>TRTPN</th>\n",
       "      <th>responseCategory</th>\n",
       "      <th>response</th>\n",
       "    </tr>\n",
       "  </thead>\n",
       "  <tbody>\n",
       "    <tr>\n",
       "      <th>0</th>\n",
       "      <td>1</td>\n",
       "      <td>1</td>\n",
       "      <td>27</td>\n",
       "      <td>0</td>\n",
       "      <td>SD</td>\n",
       "      <td>0</td>\n",
       "    </tr>\n",
       "    <tr>\n",
       "      <th>1</th>\n",
       "      <td>0</td>\n",
       "      <td>1</td>\n",
       "      <td>39</td>\n",
       "      <td>1</td>\n",
       "      <td>PD</td>\n",
       "      <td>0</td>\n",
       "    </tr>\n",
       "    <tr>\n",
       "      <th>2</th>\n",
       "      <td>1</td>\n",
       "      <td>1</td>\n",
       "      <td>126</td>\n",
       "      <td>0</td>\n",
       "      <td>PD</td>\n",
       "      <td>0</td>\n",
       "    </tr>\n",
       "    <tr>\n",
       "      <th>3</th>\n",
       "      <td>1</td>\n",
       "      <td>1</td>\n",
       "      <td>154</td>\n",
       "      <td>1</td>\n",
       "      <td>SD</td>\n",
       "      <td>0</td>\n",
       "    </tr>\n",
       "    <tr>\n",
       "      <th>4</th>\n",
       "      <td>0</td>\n",
       "      <td>1</td>\n",
       "      <td>161</td>\n",
       "      <td>1</td>\n",
       "      <td>PD</td>\n",
       "      <td>0</td>\n",
       "    </tr>\n",
       "  </tbody>\n",
       "</table>\n",
       "</div>"
      ],
      "text/plain": [
       "   gender  SITEID  SUBJID  TRTPN responseCategory  response\n",
       "0       1       1      27      0               SD         0\n",
       "1       0       1      39      1               PD         0\n",
       "2       1       1     126      0               PD         0\n",
       "3       1       1     154      1               SD         0\n",
       "4       0       1     161      1               PD         0"
      ]
     },
     "execution_count": 3,
     "metadata": {},
     "output_type": "execute_result"
    }
   ],
   "source": [
    "df = pd.read_csv(\"resp1.csv\",delimiter='@')\n",
    "df['response']=np.int64((df['responseCategory']=='CR')|(df['responseCategory']=='PR'))\n",
    "df['TRTPN'].replace([2],[0], inplace=True)         #Treatment1 = 1  / Treatent2 = 0\n",
    "df['gender'] = np.int64(df['gender'] == 'MALE')    # Male = 1   / Female = 0 \n",
    "                                \n",
    "df.head()"
   ]
  },
  {
   "cell_type": "code",
   "execution_count": 4,
   "id": "08000cb7",
   "metadata": {},
   "outputs": [
    {
     "name": "stdout",
     "output_type": "stream",
     "text": [
      "Optimization terminated successfully.\n",
      "         Current function value: 0.432137\n",
      "         Iterations 6\n"
     ]
    },
    {
     "data": {
      "text/html": [
       "<table class=\"simpletable\">\n",
       "<caption>Logit Regression Results</caption>\n",
       "<tr>\n",
       "  <th>Dep. Variable:</th>       <td>response</td>     <th>  No. Observations:  </th>  <td>   582</td> \n",
       "</tr>\n",
       "<tr>\n",
       "  <th>Model:</th>                 <td>Logit</td>      <th>  Df Residuals:      </th>  <td>   580</td> \n",
       "</tr>\n",
       "<tr>\n",
       "  <th>Method:</th>                 <td>MLE</td>       <th>  Df Model:          </th>  <td>     1</td> \n",
       "</tr>\n",
       "<tr>\n",
       "  <th>Date:</th>            <td>Fri, 22 Oct 2021</td> <th>  Pseudo R-squ.:     </th> <td>0.009915</td>\n",
       "</tr>\n",
       "<tr>\n",
       "  <th>Time:</th>                <td>10:27:40</td>     <th>  Log-Likelihood:    </th> <td> -251.50</td>\n",
       "</tr>\n",
       "<tr>\n",
       "  <th>converged:</th>             <td>True</td>       <th>  LL-Null:           </th> <td> -254.02</td>\n",
       "</tr>\n",
       "<tr>\n",
       "  <th>Covariance Type:</th>     <td>nonrobust</td>    <th>  LLR p-value:       </th>  <td>0.02481</td>\n",
       "</tr>\n",
       "</table>\n",
       "<table class=\"simpletable\">\n",
       "<tr>\n",
       "      <td></td>         <th>coef</th>     <th>std err</th>      <th>z</th>      <th>P>|z|</th>  <th>[0.025</th>    <th>0.975]</th>  \n",
       "</tr>\n",
       "<tr>\n",
       "  <th>Intercept</th> <td>   -1.9538</td> <td>    0.178</td> <td>  -10.971</td> <td> 0.000</td> <td>   -2.303</td> <td>   -1.605</td>\n",
       "</tr>\n",
       "<tr>\n",
       "  <th>TRTPN</th>     <td>    0.5153</td> <td>    0.232</td> <td>    2.222</td> <td> 0.026</td> <td>    0.061</td> <td>    0.970</td>\n",
       "</tr>\n",
       "</table>"
      ],
      "text/plain": [
       "<class 'statsmodels.iolib.summary.Summary'>\n",
       "\"\"\"\n",
       "                           Logit Regression Results                           \n",
       "==============================================================================\n",
       "Dep. Variable:               response   No. Observations:                  582\n",
       "Model:                          Logit   Df Residuals:                      580\n",
       "Method:                           MLE   Df Model:                            1\n",
       "Date:                Fri, 22 Oct 2021   Pseudo R-squ.:                0.009915\n",
       "Time:                        10:27:40   Log-Likelihood:                -251.50\n",
       "converged:                       True   LL-Null:                       -254.02\n",
       "Covariance Type:            nonrobust   LLR p-value:                   0.02481\n",
       "==============================================================================\n",
       "                 coef    std err          z      P>|z|      [0.025      0.975]\n",
       "------------------------------------------------------------------------------\n",
       "Intercept     -1.9538      0.178    -10.971      0.000      -2.303      -1.605\n",
       "TRTPN          0.5153      0.232      2.222      0.026       0.061       0.970\n",
       "==============================================================================\n",
       "\"\"\""
      ]
     },
     "execution_count": 4,
     "metadata": {},
     "output_type": "execute_result"
    }
   ],
   "source": [
    "model1 = smf.logit(\"response ~ TRTPN \", data = df).fit()\n",
    "\n",
    "model1.summary()"
   ]
  },
  {
   "cell_type": "code",
   "execution_count": 5,
   "id": "e51ce485",
   "metadata": {
    "scrolled": true
   },
   "outputs": [
    {
     "data": {
      "text/html": [
       "<div>\n",
       "<style scoped>\n",
       "    .dataframe tbody tr th:only-of-type {\n",
       "        vertical-align: middle;\n",
       "    }\n",
       "\n",
       "    .dataframe tbody tr th {\n",
       "        vertical-align: top;\n",
       "    }\n",
       "\n",
       "    .dataframe thead th {\n",
       "        text-align: right;\n",
       "    }\n",
       "</style>\n",
       "<table border=\"1\" class=\"dataframe\">\n",
       "  <thead>\n",
       "    <tr style=\"text-align: right;\">\n",
       "      <th></th>\n",
       "      <th>OR</th>\n",
       "      <th>z-value</th>\n",
       "      <th>2.5%</th>\n",
       "      <th>97.5%</th>\n",
       "    </tr>\n",
       "  </thead>\n",
       "  <tbody>\n",
       "    <tr>\n",
       "      <th>Intercept</th>\n",
       "      <td>0.141732</td>\n",
       "      <td>5.259220e-28</td>\n",
       "      <td>0.099973</td>\n",
       "      <td>0.200935</td>\n",
       "    </tr>\n",
       "    <tr>\n",
       "      <th>TRTPN</th>\n",
       "      <td>1.674200</td>\n",
       "      <td>2.631187e-02</td>\n",
       "      <td>1.062565</td>\n",
       "      <td>2.637903</td>\n",
       "    </tr>\n",
       "  </tbody>\n",
       "</table>\n",
       "</div>"
      ],
      "text/plain": [
       "                 OR       z-value      2.5%     97.5%\n",
       "Intercept  0.141732  5.259220e-28  0.099973  0.200935\n",
       "TRTPN      1.674200  2.631187e-02  1.062565  2.637903"
      ]
     },
     "execution_count": 5,
     "metadata": {},
     "output_type": "execute_result"
    }
   ],
   "source": [
    "model1_odds = pd.DataFrame(np.exp(model1.params), columns= ['OR'])\n",
    "model1_odds['z-value']= model1.pvalues\n",
    "model1_odds[['2.5%', '97.5%']] = np.exp(model1.conf_int())\n",
    "\n",
    "model1_odds"
   ]
  },
  {
   "cell_type": "markdown",
   "id": "29607c2f",
   "metadata": {},
   "source": [
    "## Definition of Odds Ratio:\n",
    "An odds ratio (OR) is a measure of association between an exposure and an outcome. The OR represents the odds that an outcome will occur given a particular exposure, compared to the odds of the outcome occurring in the absence of that exposure. In other words, the OR is a measure of the odds of an event happening in one group compared to the odds of the same event happening in another group.\n",
    "\n",
    "## Definition of confidence interval:\n",
    "The confidence interval (CI) is a range of values that’s likely to include a population value with a certain degree of confidence. The 95% confidence interval (CI) is used to estimate the precision of the OR. A large CI indicates a low level of precision of the OR, whereas a small CI indicates a higher precision of the OR.\n",
    "\n",
    "## How it is related with regression coefficients estimated in this model?\n",
    "When a logistic regression is calculated, the regression coefficient (b1) is the estimated increase in the log odds of the outcome per unit increase in the value of the exposure. In other words, the exponential function of the regression coefficient (e^b1) is the odds ratio associated with a one-unit increase in the exposure.\n",
    "\n",
    "OR=1.674200 - \n",
    "  It tell us, how much treatment 1 over treatment 2 increases the odds of a subject having response to treatment."
   ]
  },
  {
   "cell_type": "code",
   "execution_count": 6,
   "id": "a35e817f",
   "metadata": {},
   "outputs": [
    {
     "name": "stdout",
     "output_type": "stream",
     "text": [
      "Optimization terminated successfully.\n",
      "         Current function value: 0.431351\n",
      "         Iterations 6\n"
     ]
    },
    {
     "data": {
      "text/html": [
       "<table class=\"simpletable\">\n",
       "<caption>Logit Regression Results</caption>\n",
       "<tr>\n",
       "  <th>Dep. Variable:</th>       <td>response</td>     <th>  No. Observations:  </th>  <td>   582</td> \n",
       "</tr>\n",
       "<tr>\n",
       "  <th>Model:</th>                 <td>Logit</td>      <th>  Df Residuals:      </th>  <td>   578</td> \n",
       "</tr>\n",
       "<tr>\n",
       "  <th>Method:</th>                 <td>MLE</td>       <th>  Df Model:          </th>  <td>     3</td> \n",
       "</tr>\n",
       "<tr>\n",
       "  <th>Date:</th>            <td>Fri, 22 Oct 2021</td> <th>  Pseudo R-squ.:     </th>  <td>0.01172</td>\n",
       "</tr>\n",
       "<tr>\n",
       "  <th>Time:</th>                <td>10:27:47</td>     <th>  Log-Likelihood:    </th> <td> -251.05</td>\n",
       "</tr>\n",
       "<tr>\n",
       "  <th>converged:</th>             <td>True</td>       <th>  LL-Null:           </th> <td> -254.02</td>\n",
       "</tr>\n",
       "<tr>\n",
       "  <th>Covariance Type:</th>     <td>nonrobust</td>    <th>  LLR p-value:       </th>  <td>0.1139</td> \n",
       "</tr>\n",
       "</table>\n",
       "<table class=\"simpletable\">\n",
       "<tr>\n",
       "        <td></td>          <th>coef</th>     <th>std err</th>      <th>z</th>      <th>P>|z|</th>  <th>[0.025</th>    <th>0.975]</th>  \n",
       "</tr>\n",
       "<tr>\n",
       "  <th>Intercept</th>    <td>   -1.8909</td> <td>    0.268</td> <td>   -7.050</td> <td> 0.000</td> <td>   -2.417</td> <td>   -1.365</td>\n",
       "</tr>\n",
       "<tr>\n",
       "  <th>TRTPN</th>        <td>    0.3067</td> <td>    0.349</td> <td>    0.878</td> <td> 0.380</td> <td>   -0.378</td> <td>    0.992</td>\n",
       "</tr>\n",
       "<tr>\n",
       "  <th>gender</th>       <td>   -0.1106</td> <td>    0.359</td> <td>   -0.308</td> <td> 0.758</td> <td>   -0.814</td> <td>    0.592</td>\n",
       "</tr>\n",
       "<tr>\n",
       "  <th>TRTPN:gender</th> <td>    0.3814</td> <td>    0.468</td> <td>    0.816</td> <td> 0.415</td> <td>   -0.535</td> <td>    1.298</td>\n",
       "</tr>\n",
       "</table>"
      ],
      "text/plain": [
       "<class 'statsmodels.iolib.summary.Summary'>\n",
       "\"\"\"\n",
       "                           Logit Regression Results                           \n",
       "==============================================================================\n",
       "Dep. Variable:               response   No. Observations:                  582\n",
       "Model:                          Logit   Df Residuals:                      578\n",
       "Method:                           MLE   Df Model:                            3\n",
       "Date:                Fri, 22 Oct 2021   Pseudo R-squ.:                 0.01172\n",
       "Time:                        10:27:47   Log-Likelihood:                -251.05\n",
       "converged:                       True   LL-Null:                       -254.02\n",
       "Covariance Type:            nonrobust   LLR p-value:                    0.1139\n",
       "================================================================================\n",
       "                   coef    std err          z      P>|z|      [0.025      0.975]\n",
       "--------------------------------------------------------------------------------\n",
       "Intercept       -1.8909      0.268     -7.050      0.000      -2.417      -1.365\n",
       "TRTPN            0.3067      0.349      0.878      0.380      -0.378       0.992\n",
       "gender          -0.1106      0.359     -0.308      0.758      -0.814       0.592\n",
       "TRTPN:gender     0.3814      0.468      0.816      0.415      -0.535       1.298\n",
       "================================================================================\n",
       "\"\"\""
      ]
     },
     "execution_count": 6,
     "metadata": {},
     "output_type": "execute_result"
    }
   ],
   "source": [
    "model2 = smf.logit(\"response ~ TRTPN + gender + TRTPN*gender \", data = df).fit()\n",
    "\n",
    "model2.summary()\n"
   ]
  },
  {
   "cell_type": "markdown",
   "id": "51275d9d",
   "metadata": {},
   "source": [
    "r=b0 + b1*T + b2*G + b3*T*G\n",
    "\n",
    "##  Conditional odds ratio\n",
    "C1 : treatment 1 vs treatment 2 | Male      / b1+b3\n",
    "\n",
    "C2 : treatment 1 vs treatment 2 | Female    / b1\n",
    "\n",
    "C3 : Female vs Male | treatment 1           / b2+b3\n",
    "\n",
    "C4 : Female vs Male | treatment 2           / b2"
   ]
  },
  {
   "cell_type": "code",
   "execution_count": 7,
   "id": "0e4c9d6b",
   "metadata": {},
   "outputs": [],
   "source": [
    "b1b3=model2.params[1]+model2.params[3]\n",
    "b2b3=model2.params[2]+model2.params[3]\n",
    "\n",
    "c0=[np.exp(model1.params[1]), np.exp(model1.conf_int())[0][1], np.exp(model1.conf_int())[1][1]]\n",
    "c1=[np.exp(b1b3), np.exp(b1b3-1.96*model2.bse[3]), np.exp(b1b3+1.96*model2.bse[3])]\n",
    "c2=[np.exp(model2.params[1]), np.exp(model2.conf_int())[0][1], np.exp(model2.conf_int())[1][1]]\n",
    "c3=[np.exp(b2b3), np.exp(b2b3-1.96*model2.bse[3]), np.exp(b2b3+1.96*model2.bse[3]) ]\n",
    "c4=[np.exp(model2.params[2]), np.exp(model2.conf_int())[0][2], np.exp(model2.conf_int())[1][2]]\n",
    "pval=model2.pvalues[3]"
   ]
  },
  {
   "cell_type": "code",
   "execution_count": 8,
   "id": "d4fa93b9",
   "metadata": {},
   "outputs": [
    {
     "name": "stdout",
     "output_type": "stream",
     "text": [
      "+------------------------------------------------------------------------------+\n",
      "|                  Logistic regression for subjects response                   |\n",
      "+-----------------------------------------------------------+------------------+\n",
      "| RESPONSE RATE                                             |                  |\n",
      "+-----------------------------------------------------------+------------------+\n",
      "| ODDS RATIO (95% CI): Treatment 1 VS. Treatment 2          | 1.67 (1.06 2.64) |\n",
      "|                                                           |                  |\n",
      "| ODDS RATIO (95% CI): Treatment 1 VS. Treatment 2 (Male)   | 1.99 (0.80 4.97) |\n",
      "| ODDS RATIO (95% CI): Treatment 1 VS. Treatment 2 (Female) | 1.36 (0.69 2.70) |\n",
      "| ODDS RATIO (95% CI): Female VS. Male (Treatment 1)        | 1.31 (0.52 3.28) |\n",
      "| ODDS RATIO (95% CI): Female VS. Male (Treatment 2)        | 0.90 (0.44 1.81) |\n",
      "| INTERACTION P-VALUE                                       | 0.4146           |\n",
      "+-----------------------------------------------------------+------------------+\n"
     ]
    }
   ],
   "source": [
    "#Report all results\n",
    "y = PrettyTable()\n",
    "\n",
    "y = PrettyTable([\"RESPONSE RATE\", \"\"] )\n",
    "y.title = 'Logistic regression for subjects response'\n",
    "\n",
    "y.add_row([\"ODDS RATIO (95% CI): Treatment 1 VS. Treatment 2\\n\",\"%.2f (%.2f %.2f)\"%(c0[0],c0[1],c0[2])])\n",
    "\n",
    "y.add_row([\"ODDS RATIO (95% CI): Treatment 1 VS. Treatment 2 (Male)\",\"%.2f (%.2f %.2f)\"%(c1[0],c1[1],c1[2])])\n",
    "y.add_row([\"ODDS RATIO (95% CI): Treatment 1 VS. Treatment 2 (Female)\",\"%.2f (%.2f %.2f)\"%(c2[0],c2[1],c2[2])])\n",
    "y.add_row([\"ODDS RATIO (95% CI): Female VS. Male (Treatment 1)\",\"%.2f (%.2f %.2f)\"%(c3[0],c3[1],c3[2])])\n",
    "y.add_row([\"ODDS RATIO (95% CI): Female VS. Male (Treatment 2)\",\"%.2f (%.2f %.2f)\"%(c4[0],c4[1],c4[2])])\n",
    "y.add_row([\"INTERACTION P-VALUE\",\"%.4f\"%(pval)])\n",
    "\n",
    "y.align[\"RESPONSE RATE\"] = \"l\"\n",
    "y.align[\"\"] = \"l\"\n",
    "\n",
    "print(y.get_string(fields=[\"RESPONSE RATE\", \"\"]))\n"
   ]
  },
  {
   "cell_type": "code",
   "execution_count": 9,
   "id": "e0c7f3e3",
   "metadata": {},
   "outputs": [],
   "source": [
    "file = open('resp.txt', 'w')\n",
    "file.write(y.get_string(fields=[\"RESPONSE RATE\", \"\"]))\n",
    "file.close()"
   ]
  },
  {
   "cell_type": "markdown",
   "id": "b762dca5",
   "metadata": {},
   "source": [
    "##  How these 4 odds ratio are related to estimated coefficients?\n",
    "As we can see, OR for the first three conditions is OR>1, which tells us about the increases the odds of subjects having responses for the respective conditions. Only the 4th condition is OR<1, which tells us about the decreases the odds of subjects having responses for that condition.\n",
    "\n",
    "##  Definition of the pvalue:\n",
    "The p-value is the probability of obtaining results at least as extreme as the observed results of a statistical hypothesis test, assuming that the null hypothesis is correct. The p-value is used as an alternative to rejection points to provide the smallest level of significance at which the null hypothesis would be rejected. A smaller p-value means that there is stronger evidence in favor of the alternative hypothesis.\n",
    "\n",
    "##  Based on this p-value – do we need to update model (simplify it)? Why?\n",
    "Usually, a significance level of 0.05 works well. A significance level of 0.05 indicates a 5% risk of concluding that an effect exists when there is no actual effect. The null hypothesis for an interaction effect is that the response mean for the level of one factor does not depend on the value of the other factor level. If an interaction term is statistically significant, the relationship between a factor and the response differs by the level of the other factor. \n",
    "\n",
    "The p-value for the interaction between TRTPN*gender is 0.415, which indicates that the relationship between treatment and gender doesn't depend on gender. Because the interaction effect between treatment and gender isn't statistically significant, you can interpret the main effects without considering the interaction effect.\n",
    "\n",
    "Therefore, we can update the model by throwing out the interaction and trying some other methods.\n",
    "\n"
   ]
  },
  {
   "cell_type": "code",
   "execution_count": null,
   "id": "af23e128",
   "metadata": {},
   "outputs": [],
   "source": []
  },
  {
   "cell_type": "code",
   "execution_count": null,
   "id": "99bfeba1",
   "metadata": {},
   "outputs": [],
   "source": []
  },
  {
   "cell_type": "code",
   "execution_count": null,
   "id": "394b1a2c",
   "metadata": {},
   "outputs": [],
   "source": []
  },
  {
   "cell_type": "code",
   "execution_count": null,
   "id": "15250e63",
   "metadata": {},
   "outputs": [],
   "source": []
  },
  {
   "cell_type": "code",
   "execution_count": null,
   "id": "7a07e8b1",
   "metadata": {},
   "outputs": [],
   "source": []
  }
 ],
 "metadata": {
  "kernelspec": {
   "display_name": "Python 3 (ipykernel)",
   "language": "python",
   "name": "python3"
  },
  "language_info": {
   "codemirror_mode": {
    "name": "ipython",
    "version": 3
   },
   "file_extension": ".py",
   "mimetype": "text/x-python",
   "name": "python",
   "nbconvert_exporter": "python",
   "pygments_lexer": "ipython3",
   "version": "3.8.11"
  }
 },
 "nbformat": 4,
 "nbformat_minor": 5
}
